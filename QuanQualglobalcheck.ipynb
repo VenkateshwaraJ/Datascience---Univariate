{
 "cells": [
  {
   "cell_type": "code",
   "execution_count": 1,
   "id": "d2650280",
   "metadata": {},
   "outputs": [],
   "source": [
    "import pandas as pd"
   ]
  },
  {
   "cell_type": "code",
   "execution_count": 2,
   "id": "a9d74004",
   "metadata": {},
   "outputs": [],
   "source": [
    "dataset=pd.read_csv(\"Placement.csv\")"
   ]
  },
  {
   "cell_type": "code",
   "execution_count": 3,
   "id": "59d3fa88",
   "metadata": {},
   "outputs": [],
   "source": [
    "from Univariate import univariate"
   ]
  },
  {
   "cell_type": "code",
   "execution_count": 4,
   "id": "db6fbc88",
   "metadata": {},
   "outputs": [],
   "source": [
    "obj=univariate()"
   ]
  },
  {
   "cell_type": "code",
   "execution_count": 5,
   "id": "1b404491",
   "metadata": {},
   "outputs": [
    {
     "name": "stdout",
     "output_type": "stream",
     "text": [
      "sl_no\n",
      "gender\n",
      "ssc_p\n",
      "ssc_b\n",
      "hsc_p\n",
      "hsc_b\n",
      "hsc_s\n",
      "degree_p\n",
      "degree_t\n",
      "workex\n",
      "etest_p\n",
      "specialisation\n",
      "mba_p\n",
      "status\n",
      "salary\n"
     ]
    }
   ],
   "source": [
    "Quan,Qual=obj.QuanQual(dataset)"
   ]
  },
  {
   "cell_type": "code",
   "execution_count": 6,
   "id": "121ce57c",
   "metadata": {},
   "outputs": [
    {
     "data": {
      "text/plain": [
       "[]"
      ]
     },
     "execution_count": 6,
     "metadata": {},
     "output_type": "execute_result"
    }
   ],
   "source": [
    "Quan"
   ]
  },
  {
   "cell_type": "code",
   "execution_count": 7,
   "id": "87d3febe",
   "metadata": {},
   "outputs": [
    {
     "data": {
      "text/plain": [
       "['salary']"
      ]
     },
     "execution_count": 7,
     "metadata": {},
     "output_type": "execute_result"
    }
   ],
   "source": [
    "Qual"
   ]
  }
 ],
 "metadata": {
  "kernelspec": {
   "display_name": "Python 3 (ipykernel)",
   "language": "python",
   "name": "python3"
  },
  "language_info": {
   "codemirror_mode": {
    "name": "ipython",
    "version": 3
   },
   "file_extension": ".py",
   "mimetype": "text/x-python",
   "name": "python",
   "nbconvert_exporter": "python",
   "pygments_lexer": "ipython3",
   "version": "3.7.6"
  }
 },
 "nbformat": 4,
 "nbformat_minor": 5
}
